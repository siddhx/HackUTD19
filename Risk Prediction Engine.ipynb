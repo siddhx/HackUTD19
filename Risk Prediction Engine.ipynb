{
 "cells": [
  {
   "cell_type": "markdown",
   "metadata": {},
   "source": [
    "### importing dependencies "
   ]
  },
  {
   "cell_type": "code",
   "execution_count": 1,
   "metadata": {},
   "outputs": [],
   "source": [
    "import os\n",
    "import pandas as pd\n",
    "import numpy as np\n",
    "from datetime import date\n",
    "import datetime\n",
    "\n",
    "from sklearn.model_selection import train_test_split\n",
    "from sklearn.preprocessing import OneHotEncoder\n",
    "from sklearn.ensemble import RandomForestClassifier\n",
    "from sklearn.model_selection import cross_val_score\n"
   ]
  },
  {
   "cell_type": "markdown",
   "metadata": {},
   "source": [
    "### loading sample data "
   ]
  },
  {
   "cell_type": "code",
   "execution_count": 2,
   "metadata": {},
   "outputs": [],
   "source": [
    "perfSample = pd.read_csv('perfSample2.csv')\n",
    "accSample = pd.read_csv('accSample2.csv')"
   ]
  },
  {
   "cell_type": "code",
   "execution_count": 3,
   "metadata": {},
   "outputs": [],
   "source": [
    "msaReference = pd.read_csv('MSA_Reference_Two.csv')"
   ]
  },
  {
   "cell_type": "code",
   "execution_count": 4,
   "metadata": {},
   "outputs": [
    {
     "data": {
      "text/plain": [
       "Index(['PopRank', 'MSA-Location', 'State', 'Pop2013', 'Pop2010', 'Change%',\n",
       "       'ChangePercent', 'Latitude', 'Longitude', 'CBSA Code'],\n",
       "      dtype='object')"
      ]
     },
     "execution_count": 4,
     "metadata": {},
     "output_type": "execute_result"
    }
   ],
   "source": [
    "msaReference.columns"
   ]
  },
  {
   "cell_type": "code",
   "execution_count": 5,
   "metadata": {},
   "outputs": [
    {
     "name": "stdout",
     "output_type": "stream",
     "text": [
      "loanID                                  int64\n",
      "monthlyReportingPeriod                 object\n",
      "servicerName                           object\n",
      "currIntRate                           float64\n",
      "currActualUPB                         float64\n",
      "loanAge                                 int64\n",
      "remainingMonthsToLegalMaturity          int64\n",
      "adjustedMonthsToMaturity              float64\n",
      "maturityDate                           object\n",
      "msa                                     int64\n",
      "currLoanDelinquencyStatus              object\n",
      "modFlag                                object\n",
      "zeroBalCode                           float64\n",
      "zeroBalEffDate                         object\n",
      "lastPaidInstallmentDate                object\n",
      "foreclosureDate                        object\n",
      "dispositionDate                        object\n",
      "foreclosureCosts                      float64\n",
      "propertyPreservationAndRepairCosts    float64\n",
      "assetRecoveryCosts                    float64\n",
      "miscHoldingExpnAndCredits             float64\n",
      "assocTaxesForHoldingProperty          float64\n",
      "netSaleProceeds                       float64\n",
      "creditEnhancementProceeds             float64\n",
      "repurchaseMakeWholeProceeds           float64\n",
      "otherForeclosureProceeds              float64\n",
      "nonInterestBearingUPB                 float64\n",
      "principalForgivenessAmt               float64\n",
      "repurchaseMakeWholeProceedsFlag        object\n",
      "foreclosurePrincipalWriteOffAmt       float64\n",
      "ServicingActivityIndicator             object\n",
      "dtype: object\n"
     ]
    }
   ],
   "source": [
    "print(perfSample.dtypes)"
   ]
  },
  {
   "cell_type": "code",
   "execution_count": 6,
   "metadata": {},
   "outputs": [],
   "source": [
    "# perfSample.head(2)"
   ]
  },
  {
   "cell_type": "markdown",
   "metadata": {},
   "source": [
    "### assert position at start of line, match any whitespaces, . "
   ]
  },
  {
   "cell_type": "code",
   "execution_count": 7,
   "metadata": {},
   "outputs": [],
   "source": [
    "# regex , assert position at start of line, match any whitespaces, .\n",
    "perfSample = perfSample.replace(r'^\\s+$', np.nan, regex=True)"
   ]
  },
  {
   "cell_type": "code",
   "execution_count": 8,
   "metadata": {},
   "outputs": [],
   "source": [
    "# perfSample.head(2)\n",
    "perfSample = perfSample.loc[:,'loanID':'foreclosureDate']"
   ]
  },
  {
   "cell_type": "markdown",
   "metadata": {},
   "source": [
    "### replacing NaN with 0 "
   ]
  },
  {
   "cell_type": "code",
   "execution_count": 9,
   "metadata": {},
   "outputs": [],
   "source": [
    "# replace nan with 0\n",
    "perfSample['foreclosureDate'] = perfSample['foreclosureDate'].replace(np.nan, 0)"
   ]
  },
  {
   "cell_type": "code",
   "execution_count": 10,
   "metadata": {},
   "outputs": [],
   "source": [
    "perfSample['foreclosureDate'] = perfSample['foreclosureDate'].apply(lambda x: 1 if x != 0 else 0)"
   ]
  },
  {
   "cell_type": "code",
   "execution_count": 11,
   "metadata": {},
   "outputs": [
    {
     "data": {
      "text/html": [
       "<div>\n",
       "<style scoped>\n",
       "    .dataframe tbody tr th:only-of-type {\n",
       "        vertical-align: middle;\n",
       "    }\n",
       "\n",
       "    .dataframe tbody tr th {\n",
       "        vertical-align: top;\n",
       "    }\n",
       "\n",
       "    .dataframe thead th {\n",
       "        text-align: right;\n",
       "    }\n",
       "</style>\n",
       "<table border=\"1\" class=\"dataframe\">\n",
       "  <thead>\n",
       "    <tr style=\"text-align: right;\">\n",
       "      <th></th>\n",
       "      <th>loanID</th>\n",
       "      <th>monthlyReportingPeriod</th>\n",
       "      <th>servicerName</th>\n",
       "      <th>currIntRate</th>\n",
       "      <th>currActualUPB</th>\n",
       "      <th>loanAge</th>\n",
       "      <th>remainingMonthsToLegalMaturity</th>\n",
       "      <th>adjustedMonthsToMaturity</th>\n",
       "      <th>maturityDate</th>\n",
       "      <th>msa</th>\n",
       "      <th>currLoanDelinquencyStatus</th>\n",
       "      <th>modFlag</th>\n",
       "      <th>zeroBalCode</th>\n",
       "      <th>zeroBalEffDate</th>\n",
       "      <th>lastPaidInstallmentDate</th>\n",
       "      <th>foreclosureDate</th>\n",
       "    </tr>\n",
       "  </thead>\n",
       "  <tbody>\n",
       "    <tr>\n",
       "      <th>0</th>\n",
       "      <td>100007365142</td>\n",
       "      <td>01/01/2000</td>\n",
       "      <td>NaN</td>\n",
       "      <td>8.0</td>\n",
       "      <td>NaN</td>\n",
       "      <td>0</td>\n",
       "      <td>360</td>\n",
       "      <td>359.0</td>\n",
       "      <td>01/2030</td>\n",
       "      <td>0</td>\n",
       "      <td>0</td>\n",
       "      <td>N</td>\n",
       "      <td>NaN</td>\n",
       "      <td>NaN</td>\n",
       "      <td>NaN</td>\n",
       "      <td>0</td>\n",
       "    </tr>\n",
       "    <tr>\n",
       "      <th>1</th>\n",
       "      <td>100007365142</td>\n",
       "      <td>02/01/2000</td>\n",
       "      <td>NaN</td>\n",
       "      <td>8.0</td>\n",
       "      <td>NaN</td>\n",
       "      <td>1</td>\n",
       "      <td>359</td>\n",
       "      <td>358.0</td>\n",
       "      <td>01/2030</td>\n",
       "      <td>0</td>\n",
       "      <td>0</td>\n",
       "      <td>N</td>\n",
       "      <td>NaN</td>\n",
       "      <td>NaN</td>\n",
       "      <td>NaN</td>\n",
       "      <td>0</td>\n",
       "    </tr>\n",
       "  </tbody>\n",
       "</table>\n",
       "</div>"
      ],
      "text/plain": [
       "         loanID monthlyReportingPeriod servicerName  currIntRate  \\\n",
       "0  100007365142             01/01/2000          NaN          8.0   \n",
       "1  100007365142             02/01/2000          NaN          8.0   \n",
       "\n",
       "   currActualUPB  loanAge  remainingMonthsToLegalMaturity  \\\n",
       "0            NaN        0                             360   \n",
       "1            NaN        1                             359   \n",
       "\n",
       "   adjustedMonthsToMaturity maturityDate  msa currLoanDelinquencyStatus  \\\n",
       "0                     359.0      01/2030    0                         0   \n",
       "1                     358.0      01/2030    0                         0   \n",
       "\n",
       "  modFlag  zeroBalCode zeroBalEffDate lastPaidInstallmentDate  foreclosureDate  \n",
       "0       N          NaN            NaN                     NaN                0  \n",
       "1       N          NaN            NaN                     NaN                0  "
      ]
     },
     "execution_count": 11,
     "metadata": {},
     "output_type": "execute_result"
    }
   ],
   "source": [
    "perfSample.head(2)"
   ]
  },
  {
   "cell_type": "code",
   "execution_count": 12,
   "metadata": {
    "scrolled": true
   },
   "outputs": [
    {
     "data": {
      "text/plain": [
       "loanID                                  int64\n",
       "origChannel                            object\n",
       "sellerName                             object\n",
       "origIntRate                           float64\n",
       "orgUPB                                  int64\n",
       "orgLoanTerm                             int64\n",
       "orginationDate                         object\n",
       "firstPaymentDate                       object\n",
       "orgLTV                                  int64\n",
       "orgCombinedLTV                        float64\n",
       "numBorrowers                          float64\n",
       "orgDebttoIncomeRatio                  float64\n",
       "borrowerCreditScoreAtOrigination      float64\n",
       "firstTimeHomeBuyer                     object\n",
       "loanPurpose                            object\n",
       "propType                               object\n",
       "numUnits                                int64\n",
       "occType                                object\n",
       "propertyState                          object\n",
       "zipCodeShort                            int64\n",
       "priMortgageInsurancePercent           float64\n",
       "prodType                               object\n",
       "coBorrowerCreditScoreAtOrigination    float64\n",
       "mortInsType                           float64\n",
       "reloMortIndicator                      object\n",
       "dtype: object"
      ]
     },
     "execution_count": 12,
     "metadata": {},
     "output_type": "execute_result"
    }
   ],
   "source": [
    "accSample.dtypes"
   ]
  },
  {
   "cell_type": "code",
   "execution_count": 13,
   "metadata": {},
   "outputs": [],
   "source": [
    "accSample = accSample.loc[:,'loanID':'prodType']"
   ]
  },
  {
   "cell_type": "code",
   "execution_count": 14,
   "metadata": {},
   "outputs": [
    {
     "data": {
      "text/html": [
       "<div>\n",
       "<style scoped>\n",
       "    .dataframe tbody tr th:only-of-type {\n",
       "        vertical-align: middle;\n",
       "    }\n",
       "\n",
       "    .dataframe tbody tr th {\n",
       "        vertical-align: top;\n",
       "    }\n",
       "\n",
       "    .dataframe thead th {\n",
       "        text-align: right;\n",
       "    }\n",
       "</style>\n",
       "<table border=\"1\" class=\"dataframe\">\n",
       "  <thead>\n",
       "    <tr style=\"text-align: right;\">\n",
       "      <th></th>\n",
       "      <th>loanID</th>\n",
       "      <th>origChannel</th>\n",
       "      <th>sellerName</th>\n",
       "      <th>origIntRate</th>\n",
       "      <th>orgUPB</th>\n",
       "      <th>orgLoanTerm</th>\n",
       "      <th>orginationDate</th>\n",
       "      <th>firstPaymentDate</th>\n",
       "      <th>orgLTV</th>\n",
       "      <th>orgCombinedLTV</th>\n",
       "      <th>...</th>\n",
       "      <th>borrowerCreditScoreAtOrigination</th>\n",
       "      <th>firstTimeHomeBuyer</th>\n",
       "      <th>loanPurpose</th>\n",
       "      <th>propType</th>\n",
       "      <th>numUnits</th>\n",
       "      <th>occType</th>\n",
       "      <th>propertyState</th>\n",
       "      <th>zipCodeShort</th>\n",
       "      <th>priMortgageInsurancePercent</th>\n",
       "      <th>prodType</th>\n",
       "    </tr>\n",
       "  </thead>\n",
       "  <tbody>\n",
       "    <tr>\n",
       "      <th>0</th>\n",
       "      <td>100007365142</td>\n",
       "      <td>R</td>\n",
       "      <td>JPMORGAN CHASE BANK  NA</td>\n",
       "      <td>8.000</td>\n",
       "      <td>75000</td>\n",
       "      <td>360</td>\n",
       "      <td>12/1999</td>\n",
       "      <td>02/2000</td>\n",
       "      <td>79</td>\n",
       "      <td>NaN</td>\n",
       "      <td>...</td>\n",
       "      <td>763.0</td>\n",
       "      <td>N</td>\n",
       "      <td>R</td>\n",
       "      <td>SF</td>\n",
       "      <td>1</td>\n",
       "      <td>P</td>\n",
       "      <td>PA</td>\n",
       "      <td>173</td>\n",
       "      <td>NaN</td>\n",
       "      <td>FRM</td>\n",
       "    </tr>\n",
       "    <tr>\n",
       "      <th>1</th>\n",
       "      <td>100007386460</td>\n",
       "      <td>B</td>\n",
       "      <td>JPMORGAN CHASE BANK  NA</td>\n",
       "      <td>7.875</td>\n",
       "      <td>55000</td>\n",
       "      <td>180</td>\n",
       "      <td>01/2000</td>\n",
       "      <td>03/2000</td>\n",
       "      <td>69</td>\n",
       "      <td>NaN</td>\n",
       "      <td>...</td>\n",
       "      <td>633.0</td>\n",
       "      <td>N</td>\n",
       "      <td>R</td>\n",
       "      <td>CO</td>\n",
       "      <td>1</td>\n",
       "      <td>P</td>\n",
       "      <td>MD</td>\n",
       "      <td>208</td>\n",
       "      <td>NaN</td>\n",
       "      <td>FRM</td>\n",
       "    </tr>\n",
       "  </tbody>\n",
       "</table>\n",
       "<p>2 rows × 22 columns</p>\n",
       "</div>"
      ],
      "text/plain": [
       "         loanID origChannel               sellerName  origIntRate  orgUPB  \\\n",
       "0  100007365142           R  JPMORGAN CHASE BANK  NA        8.000   75000   \n",
       "1  100007386460           B  JPMORGAN CHASE BANK  NA        7.875   55000   \n",
       "\n",
       "   orgLoanTerm orginationDate firstPaymentDate  orgLTV  orgCombinedLTV  \\\n",
       "0          360        12/1999          02/2000      79             NaN   \n",
       "1          180        01/2000          03/2000      69             NaN   \n",
       "\n",
       "     ...     borrowerCreditScoreAtOrigination  firstTimeHomeBuyer  \\\n",
       "0    ...                                763.0                   N   \n",
       "1    ...                                633.0                   N   \n",
       "\n",
       "   loanPurpose propType numUnits occType  propertyState zipCodeShort  \\\n",
       "0            R       SF        1       P             PA          173   \n",
       "1            R       CO        1       P             MD          208   \n",
       "\n",
       "  priMortgageInsurancePercent  prodType  \n",
       "0                         NaN       FRM  \n",
       "1                         NaN       FRM  \n",
       "\n",
       "[2 rows x 22 columns]"
      ]
     },
     "execution_count": 14,
     "metadata": {},
     "output_type": "execute_result"
    }
   ],
   "source": [
    "accSample.head(2)"
   ]
  },
  {
   "cell_type": "markdown",
   "metadata": {},
   "source": [
    "### combining performance and acquisition sample "
   ]
  },
  {
   "cell_type": "code",
   "execution_count": 15,
   "metadata": {},
   "outputs": [],
   "source": [
    "combinedSample = pd.concat([perfSample, accSample], axis=1)\n",
    "# combinedSample['foreclosure'] = 0"
   ]
  },
  {
   "cell_type": "code",
   "execution_count": 16,
   "metadata": {},
   "outputs": [
    {
     "data": {
      "text/html": [
       "<div>\n",
       "<style scoped>\n",
       "    .dataframe tbody tr th:only-of-type {\n",
       "        vertical-align: middle;\n",
       "    }\n",
       "\n",
       "    .dataframe tbody tr th {\n",
       "        vertical-align: top;\n",
       "    }\n",
       "\n",
       "    .dataframe thead th {\n",
       "        text-align: right;\n",
       "    }\n",
       "</style>\n",
       "<table border=\"1\" class=\"dataframe\">\n",
       "  <thead>\n",
       "    <tr style=\"text-align: right;\">\n",
       "      <th></th>\n",
       "      <th>loanID</th>\n",
       "      <th>monthlyReportingPeriod</th>\n",
       "      <th>servicerName</th>\n",
       "      <th>currIntRate</th>\n",
       "      <th>currActualUPB</th>\n",
       "      <th>loanAge</th>\n",
       "      <th>remainingMonthsToLegalMaturity</th>\n",
       "      <th>adjustedMonthsToMaturity</th>\n",
       "      <th>maturityDate</th>\n",
       "      <th>msa</th>\n",
       "      <th>...</th>\n",
       "      <th>borrowerCreditScoreAtOrigination</th>\n",
       "      <th>firstTimeHomeBuyer</th>\n",
       "      <th>loanPurpose</th>\n",
       "      <th>propType</th>\n",
       "      <th>numUnits</th>\n",
       "      <th>occType</th>\n",
       "      <th>propertyState</th>\n",
       "      <th>zipCodeShort</th>\n",
       "      <th>priMortgageInsurancePercent</th>\n",
       "      <th>prodType</th>\n",
       "    </tr>\n",
       "  </thead>\n",
       "  <tbody>\n",
       "    <tr>\n",
       "      <th>0</th>\n",
       "      <td>100007365142</td>\n",
       "      <td>01/01/2000</td>\n",
       "      <td>NaN</td>\n",
       "      <td>8.0</td>\n",
       "      <td>NaN</td>\n",
       "      <td>0</td>\n",
       "      <td>360</td>\n",
       "      <td>359.0</td>\n",
       "      <td>01/2030</td>\n",
       "      <td>0</td>\n",
       "      <td>...</td>\n",
       "      <td>763.0</td>\n",
       "      <td>N</td>\n",
       "      <td>R</td>\n",
       "      <td>SF</td>\n",
       "      <td>1</td>\n",
       "      <td>P</td>\n",
       "      <td>PA</td>\n",
       "      <td>173</td>\n",
       "      <td>NaN</td>\n",
       "      <td>FRM</td>\n",
       "    </tr>\n",
       "    <tr>\n",
       "      <th>1</th>\n",
       "      <td>100007365142</td>\n",
       "      <td>02/01/2000</td>\n",
       "      <td>NaN</td>\n",
       "      <td>8.0</td>\n",
       "      <td>NaN</td>\n",
       "      <td>1</td>\n",
       "      <td>359</td>\n",
       "      <td>358.0</td>\n",
       "      <td>01/2030</td>\n",
       "      <td>0</td>\n",
       "      <td>...</td>\n",
       "      <td>633.0</td>\n",
       "      <td>N</td>\n",
       "      <td>R</td>\n",
       "      <td>CO</td>\n",
       "      <td>1</td>\n",
       "      <td>P</td>\n",
       "      <td>MD</td>\n",
       "      <td>208</td>\n",
       "      <td>NaN</td>\n",
       "      <td>FRM</td>\n",
       "    </tr>\n",
       "  </tbody>\n",
       "</table>\n",
       "<p>2 rows × 38 columns</p>\n",
       "</div>"
      ],
      "text/plain": [
       "         loanID monthlyReportingPeriod servicerName  currIntRate  \\\n",
       "0  100007365142             01/01/2000          NaN          8.0   \n",
       "1  100007365142             02/01/2000          NaN          8.0   \n",
       "\n",
       "   currActualUPB  loanAge  remainingMonthsToLegalMaturity  \\\n",
       "0            NaN        0                             360   \n",
       "1            NaN        1                             359   \n",
       "\n",
       "   adjustedMonthsToMaturity maturityDate  msa    ...     \\\n",
       "0                     359.0      01/2030    0    ...      \n",
       "1                     358.0      01/2030    0    ...      \n",
       "\n",
       "  borrowerCreditScoreAtOrigination firstTimeHomeBuyer  loanPurpose propType  \\\n",
       "0                            763.0                  N            R       SF   \n",
       "1                            633.0                  N            R       CO   \n",
       "\n",
       "  numUnits  occType  propertyState zipCodeShort priMortgageInsurancePercent  \\\n",
       "0        1        P             PA          173                         NaN   \n",
       "1        1        P             MD          208                         NaN   \n",
       "\n",
       "   prodType  \n",
       "0       FRM  \n",
       "1       FRM  \n",
       "\n",
       "[2 rows x 38 columns]"
      ]
     },
     "execution_count": 16,
     "metadata": {},
     "output_type": "execute_result"
    }
   ],
   "source": [
    "combinedSample.head(2)"
   ]
  },
  {
   "cell_type": "code",
   "execution_count": 17,
   "metadata": {},
   "outputs": [
    {
     "data": {
      "text/plain": [
       "loanID                                  0\n",
       "monthlyReportingPeriod                  0\n",
       "servicerName                        48892\n",
       "currIntRate                             0\n",
       "currActualUPB                        7863\n",
       "loanAge                                 0\n",
       "remainingMonthsToLegalMaturity          0\n",
       "adjustedMonthsToMaturity              468\n",
       "maturityDate                            0\n",
       "msa                                     0\n",
       "currLoanDelinquencyStatus              15\n",
       "modFlag                                 0\n",
       "zeroBalCode                         48689\n",
       "zeroBalEffDate                      48689\n",
       "lastPaidInstallmentDate             49984\n",
       "foreclosureDate                         0\n",
       "loanID                                  0\n",
       "origChannel                             0\n",
       "sellerName                              0\n",
       "origIntRate                             0\n",
       "orgUPB                                  0\n",
       "orgLoanTerm                             0\n",
       "orginationDate                          0\n",
       "firstPaymentDate                        0\n",
       "orgLTV                                  0\n",
       "orgCombinedLTV                      49807\n",
       "numBorrowers                           51\n",
       "orgDebttoIncomeRatio                 2032\n",
       "borrowerCreditScoreAtOrigination     1212\n",
       "firstTimeHomeBuyer                      0\n",
       "loanPurpose                             0\n",
       "propType                                0\n",
       "numUnits                                0\n",
       "occType                                 0\n",
       "propertyState                           0\n",
       "zipCodeShort                            0\n",
       "priMortgageInsurancePercent         33519\n",
       "prodType                                0\n",
       "dtype: int64"
      ]
     },
     "execution_count": 17,
     "metadata": {},
     "output_type": "execute_result"
    }
   ],
   "source": [
    "combinedSample.isna().sum()"
   ]
  },
  {
   "cell_type": "markdown",
   "metadata": {},
   "source": [
    "### removing features "
   ]
  },
  {
   "cell_type": "code",
   "execution_count": 18,
   "metadata": {},
   "outputs": [],
   "source": [
    "# combinedSample = combinedSample.drop(['servicerName', 'currActualUPB', 'adjustedMonthsToMaturity', \n",
    "#                      'orgCombinedLTV', 'numBorrowers', 'orgDebttoIncomeRatio', \n",
    "#                      'borrowerCreditScoreAtOrigination', 'priMortgageInsurancePercent',\n",
    "#                      'lastPaidInstallmentDate', 'zeroBalEffDate', 'zeroBalCode', 'maturityDate',\n",
    "#                     'monthlyReportingPeriod', 'orginationDate', 'firstPaymentDate', 'loanID'], axis=1)\n",
    "\n",
    "combinedSample = combinedSample.drop(['servicerName', 'currActualUPB', 'adjustedMonthsToMaturity', \n",
    "                     'orgCombinedLTV', 'numBorrowers', 'orgDebttoIncomeRatio', \n",
    "                     'borrowerCreditScoreAtOrigination', 'priMortgageInsurancePercent',\n",
    "                     'lastPaidInstallmentDate', 'zeroBalCode', 'maturityDate',\n",
    "                    'monthlyReportingPeriod', 'orginationDate', 'firstPaymentDate', 'loanID'], axis=1)"
   ]
  },
  {
   "cell_type": "code",
   "execution_count": 19,
   "metadata": {},
   "outputs": [
    {
     "data": {
      "text/plain": [
       "currIntRate                           0\n",
       "loanAge                               0\n",
       "remainingMonthsToLegalMaturity        0\n",
       "msa                                   0\n",
       "currLoanDelinquencyStatus            15\n",
       "modFlag                               0\n",
       "zeroBalEffDate                    48689\n",
       "foreclosureDate                       0\n",
       "origChannel                           0\n",
       "sellerName                            0\n",
       "origIntRate                           0\n",
       "orgUPB                                0\n",
       "orgLoanTerm                           0\n",
       "orgLTV                                0\n",
       "firstTimeHomeBuyer                    0\n",
       "loanPurpose                           0\n",
       "propType                              0\n",
       "numUnits                              0\n",
       "occType                               0\n",
       "propertyState                         0\n",
       "zipCodeShort                          0\n",
       "prodType                              0\n",
       "dtype: int64"
      ]
     },
     "execution_count": 19,
     "metadata": {},
     "output_type": "execute_result"
    }
   ],
   "source": [
    "combinedSample.isna().sum()"
   ]
  },
  {
   "cell_type": "code",
   "execution_count": 20,
   "metadata": {},
   "outputs": [],
   "source": [
    "# converting date to a boolean flag\n",
    "combinedSample['zeroBalEffDate'] = combinedSample['zeroBalEffDate'].replace(np.nan, 0)\n",
    "combinedSample['zeroBalEffDate'] = combinedSample['zeroBalEffDate'].apply(lambda x: 1 if x != 0 else 0)"
   ]
  },
  {
   "cell_type": "code",
   "execution_count": 21,
   "metadata": {
    "scrolled": true
   },
   "outputs": [],
   "source": [
    "# finding nan, null values\n",
    "# combinedSample[combinedSample.isnull().any(axis=1)]"
   ]
  },
  {
   "cell_type": "code",
   "execution_count": 22,
   "metadata": {},
   "outputs": [
    {
     "data": {
      "text/plain": [
       "currIntRate                       0\n",
       "loanAge                           0\n",
       "remainingMonthsToLegalMaturity    0\n",
       "msa                               0\n",
       "currLoanDelinquencyStatus         0\n",
       "modFlag                           0\n",
       "zeroBalEffDate                    0\n",
       "foreclosureDate                   0\n",
       "origChannel                       0\n",
       "sellerName                        0\n",
       "origIntRate                       0\n",
       "orgUPB                            0\n",
       "orgLoanTerm                       0\n",
       "orgLTV                            0\n",
       "firstTimeHomeBuyer                0\n",
       "loanPurpose                       0\n",
       "propType                          0\n",
       "numUnits                          0\n",
       "occType                           0\n",
       "propertyState                     0\n",
       "zipCodeShort                      0\n",
       "prodType                          0\n",
       "dtype: int64"
      ]
     },
     "execution_count": 22,
     "metadata": {},
     "output_type": "execute_result"
    }
   ],
   "source": [
    "# removing nan, null valued rows\n",
    "combinedSample['currLoanDelinquencyStatus'] = combinedSample['currLoanDelinquencyStatus'].replace(np.nan, 0)\n",
    "# combinedSample[combinedSample.isnull().any(axis=1)]\n",
    "combinedSample = combinedSample.dropna(how='any')\n",
    "combinedSample.isna().sum()"
   ]
  },
  {
   "cell_type": "code",
   "execution_count": 23,
   "metadata": {},
   "outputs": [],
   "source": [
    "combinedSample = combinedSample[combinedSample.currLoanDelinquencyStatus != 'X']"
   ]
  },
  {
   "cell_type": "code",
   "execution_count": 24,
   "metadata": {},
   "outputs": [],
   "source": [
    "# combinedSample.head(2)"
   ]
  },
  {
   "cell_type": "code",
   "execution_count": 25,
   "metadata": {},
   "outputs": [],
   "source": [
    "# combinedSample.iloc[39]['currLoanDelinquencyStatus']"
   ]
  },
  {
   "cell_type": "code",
   "execution_count": 26,
   "metadata": {},
   "outputs": [],
   "source": [
    "# cconverting \n",
    "combinedSample['currLoanDelinquencyStatus'] = pd.to_numeric(combinedSample['currLoanDelinquencyStatus'])"
   ]
  },
  {
   "cell_type": "code",
   "execution_count": 27,
   "metadata": {},
   "outputs": [
    {
     "data": {
      "text/html": [
       "<div>\n",
       "<style scoped>\n",
       "    .dataframe tbody tr th:only-of-type {\n",
       "        vertical-align: middle;\n",
       "    }\n",
       "\n",
       "    .dataframe tbody tr th {\n",
       "        vertical-align: top;\n",
       "    }\n",
       "\n",
       "    .dataframe thead th {\n",
       "        text-align: right;\n",
       "    }\n",
       "</style>\n",
       "<table border=\"1\" class=\"dataframe\">\n",
       "  <thead>\n",
       "    <tr style=\"text-align: right;\">\n",
       "      <th></th>\n",
       "      <th>currIntRate</th>\n",
       "      <th>loanAge</th>\n",
       "      <th>remainingMonthsToLegalMaturity</th>\n",
       "      <th>msa</th>\n",
       "      <th>currLoanDelinquencyStatus</th>\n",
       "      <th>modFlag</th>\n",
       "      <th>zeroBalEffDate</th>\n",
       "      <th>foreclosureDate</th>\n",
       "      <th>origChannel</th>\n",
       "      <th>sellerName</th>\n",
       "      <th>...</th>\n",
       "      <th>orgLoanTerm</th>\n",
       "      <th>orgLTV</th>\n",
       "      <th>firstTimeHomeBuyer</th>\n",
       "      <th>loanPurpose</th>\n",
       "      <th>propType</th>\n",
       "      <th>numUnits</th>\n",
       "      <th>occType</th>\n",
       "      <th>propertyState</th>\n",
       "      <th>zipCodeShort</th>\n",
       "      <th>prodType</th>\n",
       "    </tr>\n",
       "  </thead>\n",
       "  <tbody>\n",
       "    <tr>\n",
       "      <th>0</th>\n",
       "      <td>8.0</td>\n",
       "      <td>0</td>\n",
       "      <td>360</td>\n",
       "      <td>0</td>\n",
       "      <td>0</td>\n",
       "      <td>N</td>\n",
       "      <td>0</td>\n",
       "      <td>0</td>\n",
       "      <td>R</td>\n",
       "      <td>JPMORGAN CHASE BANK  NA</td>\n",
       "      <td>...</td>\n",
       "      <td>360</td>\n",
       "      <td>79</td>\n",
       "      <td>N</td>\n",
       "      <td>R</td>\n",
       "      <td>SF</td>\n",
       "      <td>1</td>\n",
       "      <td>P</td>\n",
       "      <td>PA</td>\n",
       "      <td>173</td>\n",
       "      <td>FRM</td>\n",
       "    </tr>\n",
       "    <tr>\n",
       "      <th>1</th>\n",
       "      <td>8.0</td>\n",
       "      <td>1</td>\n",
       "      <td>359</td>\n",
       "      <td>0</td>\n",
       "      <td>0</td>\n",
       "      <td>N</td>\n",
       "      <td>0</td>\n",
       "      <td>0</td>\n",
       "      <td>B</td>\n",
       "      <td>JPMORGAN CHASE BANK  NA</td>\n",
       "      <td>...</td>\n",
       "      <td>180</td>\n",
       "      <td>69</td>\n",
       "      <td>N</td>\n",
       "      <td>R</td>\n",
       "      <td>CO</td>\n",
       "      <td>1</td>\n",
       "      <td>P</td>\n",
       "      <td>MD</td>\n",
       "      <td>208</td>\n",
       "      <td>FRM</td>\n",
       "    </tr>\n",
       "  </tbody>\n",
       "</table>\n",
       "<p>2 rows × 22 columns</p>\n",
       "</div>"
      ],
      "text/plain": [
       "   currIntRate  loanAge  remainingMonthsToLegalMaturity  msa  \\\n",
       "0          8.0        0                             360    0   \n",
       "1          8.0        1                             359    0   \n",
       "\n",
       "   currLoanDelinquencyStatus modFlag  zeroBalEffDate  foreclosureDate  \\\n",
       "0                          0       N               0                0   \n",
       "1                          0       N               0                0   \n",
       "\n",
       "  origChannel               sellerName   ...     orgLoanTerm  orgLTV  \\\n",
       "0           R  JPMORGAN CHASE BANK  NA   ...             360      79   \n",
       "1           B  JPMORGAN CHASE BANK  NA   ...             180      69   \n",
       "\n",
       "   firstTimeHomeBuyer  loanPurpose propType numUnits occType  propertyState  \\\n",
       "0                   N            R       SF        1       P             PA   \n",
       "1                   N            R       CO        1       P             MD   \n",
       "\n",
       "  zipCodeShort prodType  \n",
       "0          173      FRM  \n",
       "1          208      FRM  \n",
       "\n",
       "[2 rows x 22 columns]"
      ]
     },
     "execution_count": 27,
     "metadata": {},
     "output_type": "execute_result"
    }
   ],
   "source": [
    "combinedSample.head(2)"
   ]
  },
  {
   "cell_type": "code",
   "execution_count": 28,
   "metadata": {},
   "outputs": [
    {
     "data": {
      "text/plain": [
       "numpy.int64"
      ]
     },
     "execution_count": 28,
     "metadata": {},
     "output_type": "execute_result"
    }
   ],
   "source": [
    "type(combinedSample.iloc[39]['currLoanDelinquencyStatus'])"
   ]
  },
  {
   "cell_type": "code",
   "execution_count": 29,
   "metadata": {},
   "outputs": [
    {
     "data": {
      "text/plain": [
       "numpy.int64"
      ]
     },
     "execution_count": 29,
     "metadata": {},
     "output_type": "execute_result"
    }
   ],
   "source": [
    "type(combinedSample.iloc[5000]['currLoanDelinquencyStatus'])"
   ]
  },
  {
   "cell_type": "code",
   "execution_count": 30,
   "metadata": {},
   "outputs": [],
   "source": [
    "def scaleCurrLoanDelinquencyStatus(x):\n",
    "    if x < 30 :\n",
    "        return 0\n",
    "    elif x < 60 :\n",
    "        return 1\n",
    "    elif x < 90 :\n",
    "        return 2\n",
    "    elif x < 120 :\n",
    "        return 3\n",
    "    else:\n",
    "        return 4\n",
    "    \n",
    "        "
   ]
  },
  {
   "cell_type": "code",
   "execution_count": 31,
   "metadata": {},
   "outputs": [],
   "source": [
    "combinedSample['currLoanDelinquencyStatus'] = combinedSample['currLoanDelinquencyStatus'].apply(scaleCurrLoanDelinquencyStatus)"
   ]
  },
  {
   "cell_type": "code",
   "execution_count": 32,
   "metadata": {},
   "outputs": [],
   "source": [
    "def dateToOrdinal(x):\n",
    "    return date.toordinal(x)"
   ]
  },
  {
   "cell_type": "code",
   "execution_count": 33,
   "metadata": {},
   "outputs": [],
   "source": [
    "# combinedSample['monthlyReportingPeriod'] = combinedSample['monthlyReportingPeriod'].apply(lambda x: datetime.datetime.strptime(x, \"%m/%d/%y\"))"
   ]
  },
  {
   "cell_type": "code",
   "execution_count": 34,
   "metadata": {},
   "outputs": [],
   "source": [
    "# combinedSample['monthlyReportingPeriod'] = combinedSample['monthlyReportingPeriod'].apply(dateToOrdinal)"
   ]
  },
  {
   "cell_type": "code",
   "execution_count": 35,
   "metadata": {
    "scrolled": true
   },
   "outputs": [
    {
     "data": {
      "text/plain": [
       "Index(['currIntRate', 'loanAge', 'remainingMonthsToLegalMaturity', 'msa',\n",
       "       'currLoanDelinquencyStatus', 'modFlag', 'zeroBalEffDate',\n",
       "       'foreclosureDate', 'origChannel', 'sellerName', 'origIntRate', 'orgUPB',\n",
       "       'orgLoanTerm', 'orgLTV', 'firstTimeHomeBuyer', 'loanPurpose',\n",
       "       'propType', 'numUnits', 'occType', 'propertyState', 'zipCodeShort',\n",
       "       'prodType'],\n",
       "      dtype='object')"
      ]
     },
     "execution_count": 35,
     "metadata": {},
     "output_type": "execute_result"
    }
   ],
   "source": [
    "combinedSample.columns"
   ]
  },
  {
   "cell_type": "markdown",
   "metadata": {},
   "source": [
    "### creating derived foreclosure flag "
   ]
  },
  {
   "cell_type": "code",
   "execution_count": 36,
   "metadata": {},
   "outputs": [],
   "source": [
    "combinedSample['foreclosure'] = np.where(combinedSample['zeroBalEffDate'] ==1 , 1, 0)\n",
    "combinedSample['foreclosure'] = np.where(combinedSample['foreclosureDate'] ==1 , 1, 0)"
   ]
  },
  {
   "cell_type": "markdown",
   "metadata": {},
   "source": [
    "#### joining combined sample with msa reference to get latitude and longitude "
   ]
  },
  {
   "cell_type": "code",
   "execution_count": 37,
   "metadata": {},
   "outputs": [],
   "source": [
    "# combinedSample['latitude'] = np.where(msaReference['CBSA Code'] == combinedSample['msa'] , msaReference['Latitude'], 0)\n",
    "combinedSample = pd.merge(combinedSample, msaReference, left_on='msa', right_on='CBSA Code')\n",
    "# combinedSample.isna().sum()"
   ]
  },
  {
   "cell_type": "markdown",
   "metadata": {},
   "source": [
    "#### removing features correlated with label "
   ]
  },
  {
   "cell_type": "code",
   "execution_count": 38,
   "metadata": {},
   "outputs": [],
   "source": [
    "combinedSample = combinedSample.drop(['zeroBalEffDate', 'foreclosureDate'], axis=1)"
   ]
  },
  {
   "cell_type": "code",
   "execution_count": 39,
   "metadata": {
    "scrolled": true
   },
   "outputs": [
    {
     "data": {
      "image/png": "[encoded data removed]",
      "text/plain": [
       "<Figure size 1440x1080 with 20 Axes>"
      ]
     },
     "metadata": {},
     "output_type": "display_data"
    }
   ],
   "source": [
    "%matplotlib inline \n",
    "import matplotlib.pyplot as plt\n",
    "combinedSample.hist(bins=75, figsize=(20,15))\n",
    "plt.show()"
   ]
  },
  {
   "cell_type": "code",
   "execution_count": 46,
   "metadata": {},
   "outputs": [],
   "source": [
    "# combinedSample.plot(kind=\"scatter\", x=\"Longitude\", y=\"Latitude\", alpha=0.4)\n"
   ]
  },
  {
   "cell_type": "code",
   "execution_count": 50,
   "metadata": {},
   "outputs": [
    {
     "data": {
      "text/plain": [
       "<matplotlib.legend.Legend at 0x1e0627c7080>"
      ]
     },
     "execution_count": 50,
     "metadata": {},
     "output_type": "execute_result"
    },
    {
     "data": {
      "image/png": "[encoded data removed]",
      "text/plain": [
       "<Figure size 1440x1008 with 2 Axes>"
      ]
     },
     "metadata": {},
     "output_type": "display_data"
    }
   ],
   "source": [
    "combinedSample.plot(kind=\"scatter\", x=\"Longitude\", y=\"Latitude\", alpha=0.4,\n",
    "    s=combinedSample[\"orgLTV\"]/2, label=\"orgLTV\", figsize=(20,14),\n",
    "    c=\"orgUPB\", cmap=plt.get_cmap(\"jet\"), colorbar=True,\n",
    ")\n",
    "plt.legend()"
   ]
  },
  {
   "cell_type": "markdown",
   "metadata": {},
   "source": [
    "#### one hot encoding for random forest "
   ]
  },
  {
   "cell_type": "code",
   "execution_count": null,
   "metadata": {},
   "outputs": [],
   "source": [
    "print(\"Original features: \\n\", list(combinedSample.columns), \"\\n\")\n",
    "combinedSample = pd.get_dummies(combinedSample)\n",
    "print(\"Features after One-hot Encoding: \\n\", list(combinedSample.columns), \"\\n\")"
   ]
  },
  {
   "cell_type": "code",
   "execution_count": null,
   "metadata": {},
   "outputs": [],
   "source": [
    "# Get All Column's name of the input file\n",
    "columnHeaders = list(combinedSample.columns.values)\n",
    "\n",
    "#'quality' is the class attribute we are predicting\n",
    "classColumn = 'foreclosure'\n",
    "riskFeature = combinedSample.drop(columns=['foreclosure'])\n",
    "riskClass = combinedSample[classColumn]"
   ]
  },
  {
   "cell_type": "code",
   "execution_count": null,
   "metadata": {
    "scrolled": true
   },
   "outputs": [],
   "source": [
    "combinedSample.groupby('foreclosure').count()"
   ]
  },
  {
   "cell_type": "code",
   "execution_count": null,
   "metadata": {
    "scrolled": true
   },
   "outputs": [],
   "source": [
    "combinedSample.head(5)"
   ]
  },
  {
   "cell_type": "code",
   "execution_count": null,
   "metadata": {},
   "outputs": [],
   "source": [
    "\n",
    "# Splitting given dataset - Train: 75%, Test: 25%\n",
    "trainFeature, testFeature, trainClass, testClass = train_test_split(riskFeature, riskClass, stratify=riskClass, train_size=.75, test_size=.25)\n",
    "trainAccuracy = []\n",
    "testAcuracy = []"
   ]
  },
  {
   "cell_type": "markdown",
   "metadata": {},
   "source": [
    "#### training the random forest classifier "
   ]
  },
  {
   "cell_type": "code",
   "execution_count": null,
   "metadata": {},
   "outputs": [],
   "source": [
    "forest = RandomForestClassifier(n_estimators=50, max_depth=10, random_state=0, n_jobs=4)\n",
    "forest.fit(trainFeature, trainClass)"
   ]
  },
  {
   "cell_type": "code",
   "execution_count": null,
   "metadata": {},
   "outputs": [],
   "source": [
    "# Printing test and train accuracy of the classifier\n",
    "print(\"Train set accuracy: {:.2f}\".format(forest.score(trainFeature, trainClass)))\n",
    "print(\"Test set accuracy: {:.2f}\".format(forest.score(testFeature, testClass)))"
   ]
  },
  {
   "cell_type": "code",
   "execution_count": null,
   "metadata": {},
   "outputs": [],
   "source": [
    "# Confusion matrix(6x6) including 'All' for test data\n",
    "prediction = forest.predict(testFeature)\n",
    "print(\"Confusion matrix:\")\n",
    "print(pd.crosstab(testClass, prediction, rownames=['True'], colnames=['Predicted'], margins=True))"
   ]
  },
  {
   "cell_type": "code",
   "execution_count": null,
   "metadata": {},
   "outputs": [],
   "source": [
    "# Application of 10-fold stratified cross-validation\n",
    "crossValidationScore = cross_val_score(forest, trainFeature, trainClass, cv=10)\n",
    "print(\"Cross-validation scores: {}\".format(crossValidationScore))\n",
    "print(\"Average cross-validation score: {:.2f}\".format(crossValidationScore.mean()))"
   ]
  },
  {
   "cell_type": "code",
   "execution_count": null,
   "metadata": {},
   "outputs": [],
   "source": []
  },
  {
   "cell_type": "code",
   "execution_count": null,
   "metadata": {},
   "outputs": [],
   "source": []
  },
  {
   "cell_type": "code",
   "execution_count": null,
   "metadata": {},
   "outputs": [],
   "source": []
  }
 ],
 "metadata": {
  "kernelspec": {
   "display_name": "Python 3",
   "language": "python",
   "name": "python3"
  },
  "language_info": {
   "codemirror_mode": {
    "name": "ipython",
    "version": 3
   },
   "file_extension": ".py",
   "mimetype": "text/x-python",
   "name": "python",
   "nbconvert_exporter": "python",
   "pygments_lexer": "ipython3",
   "version": "3.5.3"
  }
 },
 "nbformat": 4,
 "nbformat_minor": 2
}
